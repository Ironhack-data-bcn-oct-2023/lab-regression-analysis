{
 "cells": [
  {
   "cell_type": "markdown",
   "metadata": {},
   "source": [
    "# Lab: Regression Analysis"
   ]
  },
  {
   "cell_type": "markdown",
   "metadata": {},
   "source": [
    "### Before you start:\n",
    "\n",
    "* Read the README.md file\n",
    "* Comment as much as you can and use the resources (README.md file) \n",
    "\n",
    "Happy learning!"
   ]
  },
  {
   "cell_type": "markdown",
   "metadata": {},
   "source": [
    "## Challenge 1\n",
    "I work at a coding bootcamp, and I have developed a theory that the younger my students are, the more often they are late to class. In order to test my hypothesis, I have collected some data in the following table:\n",
    "\n",
    "| StudentID | Age | Tardies |\n",
    "|--------|-----|------------|\n",
    "| 1      | 17  | 10         |\n",
    "| 2      | 51  | 1          |\n",
    "| 3      | 27  | 5          |\n",
    "| 4      | 21  | 9         |\n",
    "| 5      | 36  |  4         |\n",
    "| 6      | 48  |  2         |\n",
    "| 7      | 19  |  9         |\n",
    "| 8      | 26  | 6          |\n",
    "| 9      | 54  |  0         |\n",
    "| 10     | 30  |  3         |"
   ]
  },
  {
   "cell_type": "markdown",
   "metadata": {},
   "source": [
    "Use this command to create a dataframe with the data provided in the table. \n",
    "~~~~\n",
    "student_data = pd.DataFrame({'Age': [17,51,27,21,36,48,19,26,54,30], 'Tardies': [10,1,5,9,4,2,9,6,0,3]})\n",
    "~~~~"
   ]
  },
  {
   "cell_type": "code",
   "execution_count": 28,
   "metadata": {},
   "outputs": [],
   "source": [
    "import pandas as pd\n",
    "import seaborn as sns\n",
    "import matplotlib.pyplot as plt\n",
    "from sklearn.linear_model import LinearRegression\n",
    "import statsmodels.formula.api as smf"
   ]
  },
  {
   "cell_type": "code",
   "execution_count": 4,
   "metadata": {},
   "outputs": [
    {
     "data": {
      "text/html": [
       "<div>\n",
       "<style scoped>\n",
       "    .dataframe tbody tr th:only-of-type {\n",
       "        vertical-align: middle;\n",
       "    }\n",
       "\n",
       "    .dataframe tbody tr th {\n",
       "        vertical-align: top;\n",
       "    }\n",
       "\n",
       "    .dataframe thead th {\n",
       "        text-align: right;\n",
       "    }\n",
       "</style>\n",
       "<table border=\"1\" class=\"dataframe\">\n",
       "  <thead>\n",
       "    <tr style=\"text-align: right;\">\n",
       "      <th></th>\n",
       "      <th>Age</th>\n",
       "      <th>Tardies</th>\n",
       "    </tr>\n",
       "  </thead>\n",
       "  <tbody>\n",
       "    <tr>\n",
       "      <th>1</th>\n",
       "      <td>51</td>\n",
       "      <td>1</td>\n",
       "    </tr>\n",
       "  </tbody>\n",
       "</table>\n",
       "</div>"
      ],
      "text/plain": [
       "   Age  Tardies\n",
       "1   51        1"
      ]
     },
     "execution_count": 4,
     "metadata": {},
     "output_type": "execute_result"
    }
   ],
   "source": [
    "student_data = pd.DataFrame({'Age': [17,51,27,21,36,48,19,26,54,30], 'Tardies': [10,1,5,9,4,2,9,6,0,3]})\n",
    "student_data.sample()"
   ]
  },
  {
   "cell_type": "markdown",
   "metadata": {},
   "source": [
    "Draw a dispersion diagram (scatter plot) for the data."
   ]
  },
  {
   "cell_type": "code",
   "execution_count": 7,
   "metadata": {},
   "outputs": [
    {
     "data": {
      "text/plain": [
       "<Axes: xlabel='Age', ylabel='Tardies'>"
      ]
     },
     "execution_count": 7,
     "metadata": {},
     "output_type": "execute_result"
    },
    {
     "data": {
      "image/png": "[encoded data removed]",
      "text/plain": [
       "<Figure size 640x480 with 1 Axes>"
      ]
     },
     "metadata": {},
     "output_type": "display_data"
    }
   ],
   "source": [
    "# Your code here.\n",
    "sns.scatterplot(x = \"Age\", y = \"Tardies\", data=student_data)"
   ]
  },
  {
   "cell_type": "markdown",
   "metadata": {},
   "source": [
    "Do you see a trend? Can you make any hypotheses about the relationship between age and number of tardies?"
   ]
  },
  {
   "cell_type": "code",
   "execution_count": 8,
   "metadata": {},
   "outputs": [],
   "source": [
    "# Your response here. \n",
    "#Yes there's a trend. The tendancy is negative so that means that the older the student the less tardies."
   ]
  },
  {
   "cell_type": "markdown",
   "metadata": {},
   "source": [
    "Calculate the covariance and correlation of the variables in your plot. What is the difference between these two measures? Compare their values. What do they tell you in this case? Add your responses as comments after your code."
   ]
  },
  {
   "cell_type": "code",
   "execution_count": 13,
   "metadata": {},
   "outputs": [
    {
     "data": {
      "text/html": [
       "<div>\n",
       "<style scoped>\n",
       "    .dataframe tbody tr th:only-of-type {\n",
       "        vertical-align: middle;\n",
       "    }\n",
       "\n",
       "    .dataframe tbody tr th {\n",
       "        vertical-align: top;\n",
       "    }\n",
       "\n",
       "    .dataframe thead th {\n",
       "        text-align: right;\n",
       "    }\n",
       "</style>\n",
       "<table border=\"1\" class=\"dataframe\">\n",
       "  <thead>\n",
       "    <tr style=\"text-align: right;\">\n",
       "      <th></th>\n",
       "      <th>Age</th>\n",
       "      <th>Tardies</th>\n",
       "    </tr>\n",
       "  </thead>\n",
       "  <tbody>\n",
       "    <tr>\n",
       "      <th>Age</th>\n",
       "      <td>187.655556</td>\n",
       "      <td>45.566667</td>\n",
       "    </tr>\n",
       "    <tr>\n",
       "      <th>Tardies</th>\n",
       "      <td>45.566667</td>\n",
       "      <td>12.544444</td>\n",
       "    </tr>\n",
       "  </tbody>\n",
       "</table>\n",
       "</div>"
      ],
      "text/plain": [
       "                Age    Tardies\n",
       "Age      187.655556  45.566667\n",
       "Tardies   45.566667  12.544444"
      ]
     },
     "execution_count": 13,
     "metadata": {},
     "output_type": "execute_result"
    }
   ],
   "source": [
    "# Your response here.\n",
    "student_data.cov().abs()\n",
    "#It tells me how much a variable it's going to change depending on how much the other variable changes. "
   ]
  },
  {
   "cell_type": "code",
   "execution_count": 12,
   "metadata": {},
   "outputs": [
    {
     "data": {
      "text/html": [
       "<div>\n",
       "<style scoped>\n",
       "    .dataframe tbody tr th:only-of-type {\n",
       "        vertical-align: middle;\n",
       "    }\n",
       "\n",
       "    .dataframe tbody tr th {\n",
       "        vertical-align: top;\n",
       "    }\n",
       "\n",
       "    .dataframe thead th {\n",
       "        text-align: right;\n",
       "    }\n",
       "</style>\n",
       "<table border=\"1\" class=\"dataframe\">\n",
       "  <thead>\n",
       "    <tr style=\"text-align: right;\">\n",
       "      <th></th>\n",
       "      <th>Age</th>\n",
       "      <th>Tardies</th>\n",
       "    </tr>\n",
       "  </thead>\n",
       "  <tbody>\n",
       "    <tr>\n",
       "      <th>Age</th>\n",
       "      <td>1.000000</td>\n",
       "      <td>0.939163</td>\n",
       "    </tr>\n",
       "    <tr>\n",
       "      <th>Tardies</th>\n",
       "      <td>0.939163</td>\n",
       "      <td>1.000000</td>\n",
       "    </tr>\n",
       "  </tbody>\n",
       "</table>\n",
       "</div>"
      ],
      "text/plain": [
       "              Age   Tardies\n",
       "Age      1.000000  0.939163\n",
       "Tardies  0.939163  1.000000"
      ]
     },
     "execution_count": 12,
     "metadata": {},
     "output_type": "execute_result"
    }
   ],
   "source": [
    "student_data.corr().abs()\n",
    "#It tells me that there's 93% of relationship between tardiness and age. IN the start it's  negative because the tendancy is negative \n",
    "# this is  why I  added the abs, because I don't care about if it's positive or negative but only the relationship. "
   ]
  },
  {
   "cell_type": "markdown",
   "metadata": {},
   "source": [
    "Build a regression model for this data. What will be your outcome variable? What type of regression are you using? Add your responses as comments after your code."
   ]
  },
  {
   "cell_type": "code",
   "execution_count": 15,
   "metadata": {},
   "outputs": [],
   "source": [
    "# Your response here.\n",
    "lr = LinearRegression()"
   ]
  },
  {
   "cell_type": "code",
   "execution_count": 17,
   "metadata": {},
   "outputs": [
    {
     "data": {
      "text/html": [
       "<style>#sk-container-id-2 {color: black;}#sk-container-id-2 pre{padding: 0;}#sk-container-id-2 div.sk-toggleable {background-color: white;}#sk-container-id-2 label.sk-toggleable__label {cursor: pointer;display: block;width: 100%;margin-bottom: 0;padding: 0.3em;box-sizing: border-box;text-align: center;}#sk-container-id-2 label.sk-toggleable__label-arrow:before {content: \"▸\";float: left;margin-right: 0.25em;color: #696969;}#sk-container-id-2 label.sk-toggleable__label-arrow:hover:before {color: black;}#sk-container-id-2 div.sk-estimator:hover label.sk-toggleable__label-arrow:before {color: black;}#sk-container-id-2 div.sk-toggleable__content {max-height: 0;max-width: 0;overflow: hidden;text-align: left;background-color: #f0f8ff;}#sk-container-id-2 div.sk-toggleable__content pre {margin: 0.2em;color: black;border-radius: 0.25em;background-color: #f0f8ff;}#sk-container-id-2 input.sk-toggleable__control:checked~div.sk-toggleable__content {max-height: 200px;max-width: 100%;overflow: auto;}#sk-container-id-2 input.sk-toggleable__control:checked~label.sk-toggleable__label-arrow:before {content: \"▾\";}#sk-container-id-2 div.sk-estimator input.sk-toggleable__control:checked~label.sk-toggleable__label {background-color: #d4ebff;}#sk-container-id-2 div.sk-label input.sk-toggleable__control:checked~label.sk-toggleable__label {background-color: #d4ebff;}#sk-container-id-2 input.sk-hidden--visually {border: 0;clip: rect(1px 1px 1px 1px);clip: rect(1px, 1px, 1px, 1px);height: 1px;margin: -1px;overflow: hidden;padding: 0;position: absolute;width: 1px;}#sk-container-id-2 div.sk-estimator {font-family: monospace;background-color: #f0f8ff;border: 1px dotted black;border-radius: 0.25em;box-sizing: border-box;margin-bottom: 0.5em;}#sk-container-id-2 div.sk-estimator:hover {background-color: #d4ebff;}#sk-container-id-2 div.sk-parallel-item::after {content: \"\";width: 100%;border-bottom: 1px solid gray;flex-grow: 1;}#sk-container-id-2 div.sk-label:hover label.sk-toggleable__label {background-color: #d4ebff;}#sk-container-id-2 div.sk-serial::before {content: \"\";position: absolute;border-left: 1px solid gray;box-sizing: border-box;top: 0;bottom: 0;left: 50%;z-index: 0;}#sk-container-id-2 div.sk-serial {display: flex;flex-direction: column;align-items: center;background-color: white;padding-right: 0.2em;padding-left: 0.2em;position: relative;}#sk-container-id-2 div.sk-item {position: relative;z-index: 1;}#sk-container-id-2 div.sk-parallel {display: flex;align-items: stretch;justify-content: center;background-color: white;position: relative;}#sk-container-id-2 div.sk-item::before, #sk-container-id-2 div.sk-parallel-item::before {content: \"\";position: absolute;border-left: 1px solid gray;box-sizing: border-box;top: 0;bottom: 0;left: 50%;z-index: -1;}#sk-container-id-2 div.sk-parallel-item {display: flex;flex-direction: column;z-index: 1;position: relative;background-color: white;}#sk-container-id-2 div.sk-parallel-item:first-child::after {align-self: flex-end;width: 50%;}#sk-container-id-2 div.sk-parallel-item:last-child::after {align-self: flex-start;width: 50%;}#sk-container-id-2 div.sk-parallel-item:only-child::after {width: 0;}#sk-container-id-2 div.sk-dashed-wrapped {border: 1px dashed gray;margin: 0 0.4em 0.5em 0.4em;box-sizing: border-box;padding-bottom: 0.4em;background-color: white;}#sk-container-id-2 div.sk-label label {font-family: monospace;font-weight: bold;display: inline-block;line-height: 1.2em;}#sk-container-id-2 div.sk-label-container {text-align: center;}#sk-container-id-2 div.sk-container {/* jupyter's `normalize.less` sets `[hidden] { display: none; }` but bootstrap.min.css set `[hidden] { display: none !important; }` so we also need the `!important` here to be able to override the default hidden behavior on the sphinx rendered scikit-learn.org. See: https://github.com/scikit-learn/scikit-learn/issues/21755 */display: inline-block !important;position: relative;}#sk-container-id-2 div.sk-text-repr-fallback {display: none;}</style><div id=\"sk-container-id-2\" class=\"sk-top-container\"><div class=\"sk-text-repr-fallback\"><pre>LinearRegression()</pre><b>In a Jupyter environment, please rerun this cell to show the HTML representation or trust the notebook. <br />On GitHub, the HTML representation is unable to render, please try loading this page with nbviewer.org.</b></div><div class=\"sk-container\" hidden><div class=\"sk-item\"><div class=\"sk-estimator sk-toggleable\"><input class=\"sk-toggleable__control sk-hidden--visually\" id=\"sk-estimator-id-2\" type=\"checkbox\" checked><label for=\"sk-estimator-id-2\" class=\"sk-toggleable__label sk-toggleable__label-arrow\">LinearRegression</label><div class=\"sk-toggleable__content\"><pre>LinearRegression()</pre></div></div></div></div></div>"
      ],
      "text/plain": [
       "LinearRegression()"
      ]
     },
     "execution_count": 17,
     "metadata": {},
     "output_type": "execute_result"
    }
   ],
   "source": [
    "X = student_data[[\"Age\"]]\n",
    "y = student_data.Tardies\n",
    "\n",
    "lr.fit(X, y) "
   ]
  },
  {
   "cell_type": "code",
   "execution_count": 19,
   "metadata": {},
   "outputs": [
    {
     "data": {
      "text/plain": [
       "array([-0.24282077])"
      ]
     },
     "execution_count": 19,
     "metadata": {},
     "output_type": "execute_result"
    }
   ],
   "source": [
    "lr.coef_"
   ]
  },
  {
   "cell_type": "code",
   "execution_count": 21,
   "metadata": {},
   "outputs": [
    {
     "data": {
      "text/plain": [
       "12.888803363135771"
      ]
     },
     "execution_count": 21,
     "metadata": {},
     "output_type": "execute_result"
    }
   ],
   "source": [
    "lr.intercept_"
   ]
  },
  {
   "cell_type": "code",
   "execution_count": 25,
   "metadata": {},
   "outputs": [],
   "source": [
    "student_data[\"prediction_linear_reg\"] = student_data.Age * lr.coef_[0] + lr.intercept_"
   ]
  },
  {
   "cell_type": "markdown",
   "metadata": {},
   "source": [
    "Plot your regression model on your scatter plot."
   ]
  },
  {
   "cell_type": "code",
   "execution_count": 27,
   "metadata": {},
   "outputs": [
    {
     "data": {
      "text/plain": [
       "[<matplotlib.lines.Line2D at 0x13121b290>]"
      ]
     },
     "execution_count": 27,
     "metadata": {},
     "output_type": "execute_result"
    },
    {
     "data": {
      "image/png": "[encoded data removed]",
      "text/plain": [
       "<Figure size 640x480 with 1 Axes>"
      ]
     },
     "metadata": {},
     "output_type": "display_data"
    }
   ],
   "source": [
    "# Your code here.\n",
    "sns.scatterplot(x = \"Age\", y = \"Tardies\", data=student_data)\n",
    "plt.plot(student_data.Age, student_data[\"prediction_linear_reg\"], c=\"r\")"
   ]
  },
  {
   "cell_type": "markdown",
   "metadata": {},
   "source": [
    "Interpret the results of your model. What can conclusions can you draw from your model and how confident in these conclusions are you? Can we say that age is a good predictor of tardiness? Add your responses as comments after your code."
   ]
  },
  {
   "cell_type": "code",
   "execution_count": 31,
   "metadata": {},
   "outputs": [
    {
     "name": "stderr",
     "output_type": "stream",
     "text": [
      "/Users/emma/miniconda3/envs/ironhack/lib/python3.11/site-packages/scipy/stats/_stats_py.py:1806: UserWarning: kurtosistest only valid for n>=20 ... continuing anyway, n=10\n",
      "  warnings.warn(\"kurtosistest only valid for n>=20 ... continuing \"\n"
     ]
    },
    {
     "data": {
      "text/html": [
       "<table class=\"simpletable\">\n",
       "<caption>OLS Regression Results</caption>\n",
       "<tr>\n",
       "  <th>Dep. Variable:</th>         <td>Tardies</td>     <th>  R-squared:         </th> <td>   0.882</td>\n",
       "</tr>\n",
       "<tr>\n",
       "  <th>Model:</th>                   <td>OLS</td>       <th>  Adj. R-squared:    </th> <td>   0.867</td>\n",
       "</tr>\n",
       "<tr>\n",
       "  <th>Method:</th>             <td>Least Squares</td>  <th>  F-statistic:       </th> <td>   59.81</td>\n",
       "</tr>\n",
       "<tr>\n",
       "  <th>Date:</th>             <td>Tue, 21 Nov 2023</td> <th>  Prob (F-statistic):</th> <td>5.57e-05</td>\n",
       "</tr>\n",
       "<tr>\n",
       "  <th>Time:</th>                 <td>15:12:57</td>     <th>  Log-Likelihood:    </th> <td> -15.622</td>\n",
       "</tr>\n",
       "<tr>\n",
       "  <th>No. Observations:</th>      <td>    10</td>      <th>  AIC:               </th> <td>   35.24</td>\n",
       "</tr>\n",
       "<tr>\n",
       "  <th>Df Residuals:</th>          <td>     8</td>      <th>  BIC:               </th> <td>   35.85</td>\n",
       "</tr>\n",
       "<tr>\n",
       "  <th>Df Model:</th>              <td>     1</td>      <th>                     </th>     <td> </td>   \n",
       "</tr>\n",
       "<tr>\n",
       "  <th>Covariance Type:</th>      <td>nonrobust</td>    <th>                     </th>     <td> </td>   \n",
       "</tr>\n",
       "</table>\n",
       "<table class=\"simpletable\">\n",
       "<tr>\n",
       "      <td></td>         <th>coef</th>     <th>std err</th>      <th>t</th>      <th>P>|t|</th>  <th>[0.025</th>    <th>0.975]</th>  \n",
       "</tr>\n",
       "<tr>\n",
       "  <th>Intercept</th> <td>   12.8888</td> <td>    1.111</td> <td>   11.605</td> <td> 0.000</td> <td>   10.328</td> <td>   15.450</td>\n",
       "</tr>\n",
       "<tr>\n",
       "  <th>Age</th>       <td>   -0.2428</td> <td>    0.031</td> <td>   -7.734</td> <td> 0.000</td> <td>   -0.315</td> <td>   -0.170</td>\n",
       "</tr>\n",
       "</table>\n",
       "<table class=\"simpletable\">\n",
       "<tr>\n",
       "  <th>Omnibus:</th>       <td> 3.949</td> <th>  Durbin-Watson:     </th> <td>   1.754</td>\n",
       "</tr>\n",
       "<tr>\n",
       "  <th>Prob(Omnibus):</th> <td> 0.139</td> <th>  Jarque-Bera (JB):  </th> <td>   1.714</td>\n",
       "</tr>\n",
       "<tr>\n",
       "  <th>Skew:</th>          <td>-1.014</td> <th>  Prob(JB):          </th> <td>   0.424</td>\n",
       "</tr>\n",
       "<tr>\n",
       "  <th>Kurtosis:</th>      <td> 3.069</td> <th>  Cond. No.          </th> <td>    96.4</td>\n",
       "</tr>\n",
       "</table><br/><br/>Notes:<br/>[1] Standard Errors assume that the covariance matrix of the errors is correctly specified."
      ],
      "text/latex": [
       "\\begin{center}\n",
       "\\begin{tabular}{lclc}\n",
       "\\toprule\n",
       "\\textbf{Dep. Variable:}    &     Tardies      & \\textbf{  R-squared:         } &     0.882   \\\\\n",
       "\\textbf{Model:}            &       OLS        & \\textbf{  Adj. R-squared:    } &     0.867   \\\\\n",
       "\\textbf{Method:}           &  Least Squares   & \\textbf{  F-statistic:       } &     59.81   \\\\\n",
       "\\textbf{Date:}             & Tue, 21 Nov 2023 & \\textbf{  Prob (F-statistic):} &  5.57e-05   \\\\\n",
       "\\textbf{Time:}             &     15:12:57     & \\textbf{  Log-Likelihood:    } &   -15.622   \\\\\n",
       "\\textbf{No. Observations:} &          10      & \\textbf{  AIC:               } &     35.24   \\\\\n",
       "\\textbf{Df Residuals:}     &           8      & \\textbf{  BIC:               } &     35.85   \\\\\n",
       "\\textbf{Df Model:}         &           1      & \\textbf{                     } &             \\\\\n",
       "\\textbf{Covariance Type:}  &    nonrobust     & \\textbf{                     } &             \\\\\n",
       "\\bottomrule\n",
       "\\end{tabular}\n",
       "\\begin{tabular}{lcccccc}\n",
       "                   & \\textbf{coef} & \\textbf{std err} & \\textbf{t} & \\textbf{P$> |$t$|$} & \\textbf{[0.025} & \\textbf{0.975]}  \\\\\n",
       "\\midrule\n",
       "\\textbf{Intercept} &      12.8888  &        1.111     &    11.605  &         0.000        &       10.328    &       15.450     \\\\\n",
       "\\textbf{Age}       &      -0.2428  &        0.031     &    -7.734  &         0.000        &       -0.315    &       -0.170     \\\\\n",
       "\\bottomrule\n",
       "\\end{tabular}\n",
       "\\begin{tabular}{lclc}\n",
       "\\textbf{Omnibus:}       &  3.949 & \\textbf{  Durbin-Watson:     } &    1.754  \\\\\n",
       "\\textbf{Prob(Omnibus):} &  0.139 & \\textbf{  Jarque-Bera (JB):  } &    1.714  \\\\\n",
       "\\textbf{Skew:}          & -1.014 & \\textbf{  Prob(JB):          } &    0.424  \\\\\n",
       "\\textbf{Kurtosis:}      &  3.069 & \\textbf{  Cond. No.          } &     96.4  \\\\\n",
       "\\bottomrule\n",
       "\\end{tabular}\n",
       "%\\caption{OLS Regression Results}\n",
       "\\end{center}\n",
       "\n",
       "Notes: \\newline\n",
       " [1] Standard Errors assume that the covariance matrix of the errors is correctly specified."
      ],
      "text/plain": [
       "<class 'statsmodels.iolib.summary.Summary'>\n",
       "\"\"\"\n",
       "                            OLS Regression Results                            \n",
       "==============================================================================\n",
       "Dep. Variable:                Tardies   R-squared:                       0.882\n",
       "Model:                            OLS   Adj. R-squared:                  0.867\n",
       "Method:                 Least Squares   F-statistic:                     59.81\n",
       "Date:                Tue, 21 Nov 2023   Prob (F-statistic):           5.57e-05\n",
       "Time:                        15:12:57   Log-Likelihood:                -15.622\n",
       "No. Observations:                  10   AIC:                             35.24\n",
       "Df Residuals:                       8   BIC:                             35.85\n",
       "Df Model:                           1                                         \n",
       "Covariance Type:            nonrobust                                         \n",
       "==============================================================================\n",
       "                 coef    std err          t      P>|t|      [0.025      0.975]\n",
       "------------------------------------------------------------------------------\n",
       "Intercept     12.8888      1.111     11.605      0.000      10.328      15.450\n",
       "Age           -0.2428      0.031     -7.734      0.000      -0.315      -0.170\n",
       "==============================================================================\n",
       "Omnibus:                        3.949   Durbin-Watson:                   1.754\n",
       "Prob(Omnibus):                  0.139   Jarque-Bera (JB):                1.714\n",
       "Skew:                          -1.014   Prob(JB):                        0.424\n",
       "Kurtosis:                       3.069   Cond. No.                         96.4\n",
       "==============================================================================\n",
       "\n",
       "Notes:\n",
       "[1] Standard Errors assume that the covariance matrix of the errors is correctly specified.\n",
       "\"\"\""
      ]
     },
     "execution_count": 31,
     "metadata": {},
     "output_type": "execute_result"
    }
   ],
   "source": [
    "# Your response here. \n",
    "result = smf.ols(\"Tardies ~ Age\", data = student_data).fit()\n",
    "result.summary()"
   ]
  },
  {
   "cell_type": "code",
   "execution_count": null,
   "metadata": {},
   "outputs": [],
   "source": [
    "''' From that we understand that yes, we can predict tardiness via age. We also see that the model is wuite accurate as its r squared is \n",
    "0.8. Also that the residuals are 8 out of 10 points, meaning that only 2 points are on top of the line. So the model it's not over specific (I know it's not this word but I never remember the actual name).'''"
   ]
  },
  {
   "cell_type": "markdown",
   "metadata": {},
   "source": [
    "## Challenge 2\n",
    "For the second part of this lab, we will use the vehicles.csv data set. You can find a copy of the dataset in the git hub folder. This dataset includes variables related to vehicle characteristics, including the model, make, and energy efficiency standards, as well as each car's CO2 emissions. As discussed in class the goal of this exercise is to predict vehicles' CO2 emissions based on several independent variables. "
   ]
  },
  {
   "cell_type": "code",
   "execution_count": 33,
   "metadata": {},
   "outputs": [
    {
     "data": {
      "text/html": [
       "<div>\n",
       "<style scoped>\n",
       "    .dataframe tbody tr th:only-of-type {\n",
       "        vertical-align: middle;\n",
       "    }\n",
       "\n",
       "    .dataframe tbody tr th {\n",
       "        vertical-align: top;\n",
       "    }\n",
       "\n",
       "    .dataframe thead th {\n",
       "        text-align: right;\n",
       "    }\n",
       "</style>\n",
       "<table border=\"1\" class=\"dataframe\">\n",
       "  <thead>\n",
       "    <tr style=\"text-align: right;\">\n",
       "      <th></th>\n",
       "      <th>Make</th>\n",
       "      <th>Model</th>\n",
       "      <th>Year</th>\n",
       "      <th>Engine Displacement</th>\n",
       "      <th>Cylinders</th>\n",
       "      <th>Transmission</th>\n",
       "      <th>Drivetrain</th>\n",
       "      <th>Vehicle Class</th>\n",
       "      <th>Fuel Type</th>\n",
       "      <th>Fuel Barrels/Year</th>\n",
       "      <th>City MPG</th>\n",
       "      <th>Highway MPG</th>\n",
       "      <th>Combined MPG</th>\n",
       "      <th>CO2 Emission Grams/Mile</th>\n",
       "      <th>Fuel Cost/Year</th>\n",
       "    </tr>\n",
       "  </thead>\n",
       "  <tbody>\n",
       "    <tr>\n",
       "      <th>29134</th>\n",
       "      <td>Porsche</td>\n",
       "      <td>911 Carrera 4S</td>\n",
       "      <td>2016</td>\n",
       "      <td>3.8</td>\n",
       "      <td>6.0</td>\n",
       "      <td>Manual 7-spd</td>\n",
       "      <td>4-Wheel Drive</td>\n",
       "      <td>Minicompact Cars</td>\n",
       "      <td>Premium</td>\n",
       "      <td>15.695714</td>\n",
       "      <td>19</td>\n",
       "      <td>26</td>\n",
       "      <td>21</td>\n",
       "      <td>415.000000</td>\n",
       "      <td>1950</td>\n",
       "    </tr>\n",
       "    <tr>\n",
       "      <th>8883</th>\n",
       "      <td>Dodge</td>\n",
       "      <td>B150/B250 Van 2WD</td>\n",
       "      <td>1991</td>\n",
       "      <td>3.9</td>\n",
       "      <td>6.0</td>\n",
       "      <td>Automatic 4-spd</td>\n",
       "      <td>Rear-Wheel Drive</td>\n",
       "      <td>Vans</td>\n",
       "      <td>Regular</td>\n",
       "      <td>21.974000</td>\n",
       "      <td>14</td>\n",
       "      <td>17</td>\n",
       "      <td>15</td>\n",
       "      <td>592.466667</td>\n",
       "      <td>2200</td>\n",
       "    </tr>\n",
       "    <tr>\n",
       "      <th>3255</th>\n",
       "      <td>Buick</td>\n",
       "      <td>Century</td>\n",
       "      <td>1996</td>\n",
       "      <td>3.1</td>\n",
       "      <td>6.0</td>\n",
       "      <td>Automatic 4-spd</td>\n",
       "      <td>Front-Wheel Drive</td>\n",
       "      <td>Midsize Cars</td>\n",
       "      <td>Regular</td>\n",
       "      <td>15.695714</td>\n",
       "      <td>18</td>\n",
       "      <td>26</td>\n",
       "      <td>21</td>\n",
       "      <td>423.190476</td>\n",
       "      <td>1600</td>\n",
       "    </tr>\n",
       "  </tbody>\n",
       "</table>\n",
       "</div>"
      ],
      "text/plain": [
       "          Make              Model  Year  Engine Displacement  Cylinders  \\\n",
       "29134  Porsche     911 Carrera 4S  2016                  3.8        6.0   \n",
       "8883     Dodge  B150/B250 Van 2WD  1991                  3.9        6.0   \n",
       "3255     Buick            Century  1996                  3.1        6.0   \n",
       "\n",
       "          Transmission         Drivetrain     Vehicle Class Fuel Type  \\\n",
       "29134     Manual 7-spd      4-Wheel Drive  Minicompact Cars   Premium   \n",
       "8883   Automatic 4-spd   Rear-Wheel Drive              Vans   Regular   \n",
       "3255   Automatic 4-spd  Front-Wheel Drive      Midsize Cars   Regular   \n",
       "\n",
       "       Fuel Barrels/Year  City MPG  Highway MPG  Combined MPG  \\\n",
       "29134          15.695714        19           26            21   \n",
       "8883           21.974000        14           17            15   \n",
       "3255           15.695714        18           26            21   \n",
       "\n",
       "       CO2 Emission Grams/Mile  Fuel Cost/Year  \n",
       "29134               415.000000            1950  \n",
       "8883                592.466667            2200  \n",
       "3255                423.190476            1600  "
      ]
     },
     "execution_count": 33,
     "metadata": {},
     "output_type": "execute_result"
    }
   ],
   "source": [
    "# Import any libraries you may need & the data\n",
    "v = pd.read_csv(\"vehicles.csv\")\n",
    "v.sample(3)"
   ]
  },
  {
   "cell_type": "code",
   "execution_count": 43,
   "metadata": {},
   "outputs": [
    {
     "data": {
      "text/html": [
       "<div>\n",
       "<style scoped>\n",
       "    .dataframe tbody tr th:only-of-type {\n",
       "        vertical-align: middle;\n",
       "    }\n",
       "\n",
       "    .dataframe tbody tr th {\n",
       "        vertical-align: top;\n",
       "    }\n",
       "\n",
       "    .dataframe thead th {\n",
       "        text-align: right;\n",
       "    }\n",
       "</style>\n",
       "<table border=\"1\" class=\"dataframe\">\n",
       "  <thead>\n",
       "    <tr style=\"text-align: right;\">\n",
       "      <th></th>\n",
       "      <th>Make</th>\n",
       "      <th>Model</th>\n",
       "      <th>Year</th>\n",
       "      <th>Engine_Displacement</th>\n",
       "      <th>Cylinders</th>\n",
       "      <th>Transmission</th>\n",
       "      <th>Drivetrain</th>\n",
       "      <th>Vehicle_Class</th>\n",
       "      <th>Fuel_Type</th>\n",
       "      <th>Fuel_Barrels_Year</th>\n",
       "      <th>City_MPG</th>\n",
       "      <th>Highway_MPG</th>\n",
       "      <th>Combined_MPG</th>\n",
       "      <th>CO2_Emission_Grams_Mile</th>\n",
       "      <th>Fuel_Cost_Year</th>\n",
       "    </tr>\n",
       "  </thead>\n",
       "  <tbody>\n",
       "    <tr>\n",
       "      <th>12421</th>\n",
       "      <td>Ford</td>\n",
       "      <td>Explorer 2WD FFV</td>\n",
       "      <td>2003</td>\n",
       "      <td>4.0</td>\n",
       "      <td>6.0</td>\n",
       "      <td>Automatic 5-spd</td>\n",
       "      <td>Rear-Wheel Drive</td>\n",
       "      <td>Sport Utility Vehicle - 2WD</td>\n",
       "      <td>Gasoline or E85</td>\n",
       "      <td>20.600625</td>\n",
       "      <td>14</td>\n",
       "      <td>19</td>\n",
       "      <td>16</td>\n",
       "      <td>555.4375</td>\n",
       "      <td>2100</td>\n",
       "    </tr>\n",
       "  </tbody>\n",
       "</table>\n",
       "</div>"
      ],
      "text/plain": [
       "       Make             Model  Year  Engine_Displacement  Cylinders  \\\n",
       "12421  Ford  Explorer 2WD FFV  2003                  4.0        6.0   \n",
       "\n",
       "          Transmission        Drivetrain                Vehicle_Class  \\\n",
       "12421  Automatic 5-spd  Rear-Wheel Drive  Sport Utility Vehicle - 2WD   \n",
       "\n",
       "             Fuel_Type  Fuel_Barrels_Year  City_MPG  Highway_MPG  \\\n",
       "12421  Gasoline or E85          20.600625        14           19   \n",
       "\n",
       "       Combined_MPG  CO2_Emission_Grams_Mile  Fuel_Cost_Year  \n",
       "12421            16                 555.4375            2100  "
      ]
     },
     "execution_count": 43,
     "metadata": {},
     "output_type": "execute_result"
    }
   ],
   "source": [
    "v.columns = v.columns.str.replace(' ', '_')\n",
    "v.columns = v.columns.str.replace('/', '_')\n",
    "v.sample()"
   ]
  },
  {
   "cell_type": "markdown",
   "metadata": {},
   "source": [
    "Let's use the following variables for our analysis: Year, Cylinders, Fuel Barrels/Year, Combined MPG, and Fuel Cost/Year. We will use 'CO2 Emission Grams/Mile' as our outcome variable. \n",
    "\n",
    "Calculate the correlations between each of these variables and the outcome. Which variable do you think will be the most important in determining CO2 emissions? Which provides the least amount of helpful information for determining CO2 emissions? Add your responses as comments after your code."
   ]
  },
  {
   "cell_type": "code",
   "execution_count": 48,
   "metadata": {},
   "outputs": [
    {
     "data": {
      "text/plain": [
       "-0.22229960295054227"
      ]
     },
     "execution_count": 48,
     "metadata": {},
     "output_type": "execute_result"
    }
   ],
   "source": [
    "v[\"CO2_Emission_Grams_Mile\"]. corr(v[\"Year\"]) "
   ]
  },
  {
   "cell_type": "code",
   "execution_count": 49,
   "metadata": {},
   "outputs": [
    {
     "data": {
      "text/plain": [
       "0.752392553729749"
      ]
     },
     "execution_count": 49,
     "metadata": {},
     "output_type": "execute_result"
    }
   ],
   "source": [
    "v[\"CO2_Emission_Grams_Mile\"]. corr(v[\"Cylinders\"]) "
   ]
  },
  {
   "cell_type": "code",
   "execution_count": 50,
   "metadata": {},
   "outputs": [
    {
     "data": {
      "text/plain": [
       "0.9861886621428735"
      ]
     },
     "execution_count": 50,
     "metadata": {},
     "output_type": "execute_result"
    }
   ],
   "source": [
    "v[\"CO2_Emission_Grams_Mile\"]. corr(v[\"Fuel_Barrels_Year\"]) "
   ]
  },
  {
   "cell_type": "code",
   "execution_count": 51,
   "metadata": {},
   "outputs": [
    {
     "data": {
      "text/plain": [
       "-0.9262290389336435"
      ]
     },
     "execution_count": 51,
     "metadata": {},
     "output_type": "execute_result"
    }
   ],
   "source": [
    "v[\"CO2_Emission_Grams_Mile\"]. corr(v[\"Combined_MPG\"]) "
   ]
  },
  {
   "cell_type": "code",
   "execution_count": 52,
   "metadata": {},
   "outputs": [
    {
     "data": {
      "text/plain": [
       "0.9308651512201843"
      ]
     },
     "execution_count": 52,
     "metadata": {},
     "output_type": "execute_result"
    }
   ],
   "source": [
    "v[\"CO2_Emission_Grams_Mile\"]. corr(v[\"Fuel_Cost_Year\"]) "
   ]
  },
  {
   "cell_type": "code",
   "execution_count": 59,
   "metadata": {},
   "outputs": [
    {
     "data": {
      "text/html": [
       "<div>\n",
       "<style scoped>\n",
       "    .dataframe tbody tr th:only-of-type {\n",
       "        vertical-align: middle;\n",
       "    }\n",
       "\n",
       "    .dataframe tbody tr th {\n",
       "        vertical-align: top;\n",
       "    }\n",
       "\n",
       "    .dataframe thead th {\n",
       "        text-align: right;\n",
       "    }\n",
       "</style>\n",
       "<table border=\"1\" class=\"dataframe\">\n",
       "  <thead>\n",
       "    <tr style=\"text-align: right;\">\n",
       "      <th></th>\n",
       "      <th>Year</th>\n",
       "      <th>Cylinders</th>\n",
       "      <th>Fuel_Barrels_Year</th>\n",
       "      <th>Combined_MPG</th>\n",
       "      <th>Fuel_Cost_Year</th>\n",
       "      <th>CO2_Emission_Grams_Mile</th>\n",
       "    </tr>\n",
       "  </thead>\n",
       "  <tbody>\n",
       "    <tr>\n",
       "      <th>Year</th>\n",
       "      <td>1.000000</td>\n",
       "      <td>0.082469</td>\n",
       "      <td>-0.221084</td>\n",
       "      <td>0.204751</td>\n",
       "      <td>-0.091913</td>\n",
       "      <td>-0.222300</td>\n",
       "    </tr>\n",
       "    <tr>\n",
       "      <th>Cylinders</th>\n",
       "      <td>0.082469</td>\n",
       "      <td>1.000000</td>\n",
       "      <td>0.739517</td>\n",
       "      <td>-0.698648</td>\n",
       "      <td>0.778153</td>\n",
       "      <td>0.752393</td>\n",
       "    </tr>\n",
       "    <tr>\n",
       "      <th>Fuel_Barrels_Year</th>\n",
       "      <td>-0.221084</td>\n",
       "      <td>0.739517</td>\n",
       "      <td>1.000000</td>\n",
       "      <td>-0.909743</td>\n",
       "      <td>0.916208</td>\n",
       "      <td>0.986189</td>\n",
       "    </tr>\n",
       "    <tr>\n",
       "      <th>Combined_MPG</th>\n",
       "      <td>0.204751</td>\n",
       "      <td>-0.698648</td>\n",
       "      <td>-0.909743</td>\n",
       "      <td>1.000000</td>\n",
       "      <td>-0.875185</td>\n",
       "      <td>-0.926229</td>\n",
       "    </tr>\n",
       "    <tr>\n",
       "      <th>Fuel_Cost_Year</th>\n",
       "      <td>-0.091913</td>\n",
       "      <td>0.778153</td>\n",
       "      <td>0.916208</td>\n",
       "      <td>-0.875185</td>\n",
       "      <td>1.000000</td>\n",
       "      <td>0.930865</td>\n",
       "    </tr>\n",
       "    <tr>\n",
       "      <th>CO2_Emission_Grams_Mile</th>\n",
       "      <td>-0.222300</td>\n",
       "      <td>0.752393</td>\n",
       "      <td>0.986189</td>\n",
       "      <td>-0.926229</td>\n",
       "      <td>0.930865</td>\n",
       "      <td>1.000000</td>\n",
       "    </tr>\n",
       "  </tbody>\n",
       "</table>\n",
       "</div>"
      ],
      "text/plain": [
       "                             Year  Cylinders  Fuel_Barrels_Year  Combined_MPG  \\\n",
       "Year                     1.000000   0.082469          -0.221084      0.204751   \n",
       "Cylinders                0.082469   1.000000           0.739517     -0.698648   \n",
       "Fuel_Barrels_Year       -0.221084   0.739517           1.000000     -0.909743   \n",
       "Combined_MPG             0.204751  -0.698648          -0.909743      1.000000   \n",
       "Fuel_Cost_Year          -0.091913   0.778153           0.916208     -0.875185   \n",
       "CO2_Emission_Grams_Mile -0.222300   0.752393           0.986189     -0.926229   \n",
       "\n",
       "                         Fuel_Cost_Year  CO2_Emission_Grams_Mile  \n",
       "Year                          -0.091913                -0.222300  \n",
       "Cylinders                      0.778153                 0.752393  \n",
       "Fuel_Barrels_Year              0.916208                 0.986189  \n",
       "Combined_MPG                  -0.875185                -0.926229  \n",
       "Fuel_Cost_Year                 1.000000                 0.930865  \n",
       "CO2_Emission_Grams_Mile        0.930865                 1.000000  "
      ]
     },
     "execution_count": 59,
     "metadata": {},
     "output_type": "execute_result"
    }
   ],
   "source": [
    "v[[\"Year\", \"Cylinders\", \"Fuel_Barrels_Year\", \"Combined_MPG\", \"Fuel_Cost_Year\",\"CO2_Emission_Grams_Mile\"]].corr()"
   ]
  },
  {
   "cell_type": "code",
   "execution_count": 53,
   "metadata": {},
   "outputs": [
    {
     "data": {
      "text/plain": [
       "'The variable with higher correlation is Fuel Barrels/Year. So that one will be the most important. Although what we can see\\nis that all the variables we tested are actually correlated so probably they all will be participants of the result of the model. '"
      ]
     },
     "execution_count": 53,
     "metadata": {},
     "output_type": "execute_result"
    }
   ],
   "source": [
    "'''The variable with higher correlation is Fuel Barrels/Year. So that one will be the most important. Although what we can see\n",
    "is that all the variables we tested are actually correlated so probably they all will be participants of the result of the model. '''"
   ]
  },
  {
   "cell_type": "code",
   "execution_count": 45,
   "metadata": {},
   "outputs": [
    {
     "data": {
      "text/plain": [
       "'X = v[[\"Year\", \"Cylinders\", \"Fuel Barrels/Year\", \"Combined MPG\", \"Fuel Cost/Year\"]]\\ny = v[\"CO2 Emission Grams/Mile\"]\\n\\nresults = smf.ols(f\"{y} ~ {X}\", data = v).fit()\\n\\nresults.summary()'"
      ]
     },
     "execution_count": 45,
     "metadata": {},
     "output_type": "execute_result"
    }
   ],
   "source": [
    "# Your response here. \n",
    "\n",
    "'''X = v[[\"Year\", \"Cylinders\", \"Fuel Barrels/Year\", \"Combined MPG\", \"Fuel Cost/Year\"]]\n",
    "y = v[\"CO2 Emission Grams/Mile\"]\n",
    "\n",
    "results = smf.ols(f\"{y} ~ {X}\", data = v).fit()\n",
    "\n",
    "results.summary()'''"
   ]
  },
  {
   "cell_type": "markdown",
   "metadata": {},
   "source": [
    "Build a regression model for this data. What type of regression are you using? Add your responses as comments after your code."
   ]
  },
  {
   "cell_type": "code",
   "execution_count": 56,
   "metadata": {},
   "outputs": [],
   "source": [
    "X = v[[\"Year\", \"Cylinders\", \"Fuel_Barrels_Year\", \"Combined_MPG\", \"Fuel_Cost_Year\"]]\n",
    "y = v[\"CO2_Emission_Grams_Mile\"]"
   ]
  },
  {
   "cell_type": "code",
   "execution_count": 57,
   "metadata": {},
   "outputs": [],
   "source": [
    "# Your response here. \n",
    "results = smf.ols(\"CO2_Emission_Grams_Mile ~ Year + Cylinders + Fuel_Barrels_Year + Combined_MPG + Fuel_Cost_Year\", data = v).fit()\n",
    "\n"
   ]
  },
  {
   "cell_type": "code",
   "execution_count": null,
   "metadata": {},
   "outputs": [],
   "source": [
    "''' The model I used was the Multiple linear regression. The exact model is OLS, Ordinary least squares. What that means is:\n",
    "we want to predict some values from a linear regression model but with various variables. '''"
   ]
  },
  {
   "cell_type": "markdown",
   "metadata": {},
   "source": [
    "Print your regression summary, and interpret the results. What are the most important varibles in your model and why? What can conclusions can you draw from your model and how confident in these conclusions are you? Add your responses as comments after your code."
   ]
  },
  {
   "cell_type": "code",
   "execution_count": 58,
   "metadata": {},
   "outputs": [
    {
     "data": {
      "text/html": [
       "<table class=\"simpletable\">\n",
       "<caption>OLS Regression Results</caption>\n",
       "<tr>\n",
       "  <th>Dep. Variable:</th>    <td>CO2_Emission_Grams_Mile</td> <th>  R-squared:         </th>  <td>   0.981</td>  \n",
       "</tr>\n",
       "<tr>\n",
       "  <th>Model:</th>                      <td>OLS</td>           <th>  Adj. R-squared:    </th>  <td>   0.981</td>  \n",
       "</tr>\n",
       "<tr>\n",
       "  <th>Method:</th>                <td>Least Squares</td>      <th>  F-statistic:       </th>  <td>3.687e+05</td> \n",
       "</tr>\n",
       "<tr>\n",
       "  <th>Date:</th>                <td>Tue, 21 Nov 2023</td>     <th>  Prob (F-statistic):</th>   <td>  0.00</td>   \n",
       "</tr>\n",
       "<tr>\n",
       "  <th>Time:</th>                    <td>15:53:18</td>         <th>  Log-Likelihood:    </th> <td>-1.5173e+05</td>\n",
       "</tr>\n",
       "<tr>\n",
       "  <th>No. Observations:</th>         <td> 35952</td>          <th>  AIC:               </th>  <td>3.035e+05</td> \n",
       "</tr>\n",
       "<tr>\n",
       "  <th>Df Residuals:</th>             <td> 35946</td>          <th>  BIC:               </th>  <td>3.035e+05</td> \n",
       "</tr>\n",
       "<tr>\n",
       "  <th>Df Model:</th>                 <td>     5</td>          <th>                     </th>      <td> </td>     \n",
       "</tr>\n",
       "<tr>\n",
       "  <th>Covariance Type:</th>         <td>nonrobust</td>        <th>                     </th>      <td> </td>     \n",
       "</tr>\n",
       "</table>\n",
       "<table class=\"simpletable\">\n",
       "<tr>\n",
       "          <td></td>             <th>coef</th>     <th>std err</th>      <th>t</th>      <th>P>|t|</th>  <th>[0.025</th>    <th>0.975]</th>  \n",
       "</tr>\n",
       "<tr>\n",
       "  <th>Intercept</th>         <td>  769.8883</td> <td>   19.392</td> <td>   39.702</td> <td> 0.000</td> <td>  731.880</td> <td>  807.897</td>\n",
       "</tr>\n",
       "<tr>\n",
       "  <th>Year</th>              <td>   -0.3206</td> <td>    0.010</td> <td>  -33.060</td> <td> 0.000</td> <td>   -0.340</td> <td>   -0.302</td>\n",
       "</tr>\n",
       "<tr>\n",
       "  <th>Cylinders</th>         <td>    1.8788</td> <td>    0.083</td> <td>   22.598</td> <td> 0.000</td> <td>    1.716</td> <td>    2.042</td>\n",
       "</tr>\n",
       "<tr>\n",
       "  <th>Fuel_Barrels_Year</th> <td>   19.0529</td> <td>    0.061</td> <td>  311.600</td> <td> 0.000</td> <td>   18.933</td> <td>   19.173</td>\n",
       "</tr>\n",
       "<tr>\n",
       "  <th>Combined_MPG</th>      <td>   -3.0404</td> <td>    0.042</td> <td>  -71.645</td> <td> 0.000</td> <td>   -3.124</td> <td>   -2.957</td>\n",
       "</tr>\n",
       "<tr>\n",
       "  <th>Fuel_Cost_Year</th>    <td>    0.0323</td> <td>    0.000</td> <td>   67.025</td> <td> 0.000</td> <td>    0.031</td> <td>    0.033</td>\n",
       "</tr>\n",
       "</table>\n",
       "<table class=\"simpletable\">\n",
       "<tr>\n",
       "  <th>Omnibus:</th>       <td>71055.645</td> <th>  Durbin-Watson:     </th>   <td>   0.747</td>   \n",
       "</tr>\n",
       "<tr>\n",
       "  <th>Prob(Omnibus):</th>  <td> 0.000</td>   <th>  Jarque-Bera (JB):  </th> <td>246941260.782</td>\n",
       "</tr>\n",
       "<tr>\n",
       "  <th>Skew:</th>           <td>15.902</td>   <th>  Prob(JB):          </th>   <td>    0.00</td>   \n",
       "</tr>\n",
       "<tr>\n",
       "  <th>Kurtosis:</th>       <td>407.766</td>  <th>  Cond. No.          </th>   <td>6.20e+05</td>   \n",
       "</tr>\n",
       "</table><br/><br/>Notes:<br/>[1] Standard Errors assume that the covariance matrix of the errors is correctly specified.<br/>[2] The condition number is large, 6.2e+05. This might indicate that there are<br/>strong multicollinearity or other numerical problems."
      ],
      "text/latex": [
       "\\begin{center}\n",
       "\\begin{tabular}{lclc}\n",
       "\\toprule\n",
       "\\textbf{Dep. Variable:}      & CO2\\_Emission\\_Grams\\_Mile & \\textbf{  R-squared:         } &       0.981    \\\\\n",
       "\\textbf{Model:}              &            OLS             & \\textbf{  Adj. R-squared:    } &       0.981    \\\\\n",
       "\\textbf{Method:}             &       Least Squares        & \\textbf{  F-statistic:       } &   3.687e+05    \\\\\n",
       "\\textbf{Date:}               &      Tue, 21 Nov 2023      & \\textbf{  Prob (F-statistic):} &       0.00     \\\\\n",
       "\\textbf{Time:}               &          15:53:18          & \\textbf{  Log-Likelihood:    } &  -1.5173e+05   \\\\\n",
       "\\textbf{No. Observations:}   &            35952           & \\textbf{  AIC:               } &   3.035e+05    \\\\\n",
       "\\textbf{Df Residuals:}       &            35946           & \\textbf{  BIC:               } &   3.035e+05    \\\\\n",
       "\\textbf{Df Model:}           &                5           & \\textbf{                     } &                \\\\\n",
       "\\textbf{Covariance Type:}    &         nonrobust          & \\textbf{                     } &                \\\\\n",
       "\\bottomrule\n",
       "\\end{tabular}\n",
       "\\begin{tabular}{lcccccc}\n",
       "                             & \\textbf{coef} & \\textbf{std err} & \\textbf{t} & \\textbf{P$> |$t$|$} & \\textbf{[0.025} & \\textbf{0.975]}  \\\\\n",
       "\\midrule\n",
       "\\textbf{Intercept}           &     769.8883  &       19.392     &    39.702  &         0.000        &      731.880    &      807.897     \\\\\n",
       "\\textbf{Year}                &      -0.3206  &        0.010     &   -33.060  &         0.000        &       -0.340    &       -0.302     \\\\\n",
       "\\textbf{Cylinders}           &       1.8788  &        0.083     &    22.598  &         0.000        &        1.716    &        2.042     \\\\\n",
       "\\textbf{Fuel\\_Barrels\\_Year} &      19.0529  &        0.061     &   311.600  &         0.000        &       18.933    &       19.173     \\\\\n",
       "\\textbf{Combined\\_MPG}       &      -3.0404  &        0.042     &   -71.645  &         0.000        &       -3.124    &       -2.957     \\\\\n",
       "\\textbf{Fuel\\_Cost\\_Year}    &       0.0323  &        0.000     &    67.025  &         0.000        &        0.031    &        0.033     \\\\\n",
       "\\bottomrule\n",
       "\\end{tabular}\n",
       "\\begin{tabular}{lclc}\n",
       "\\textbf{Omnibus:}       & 71055.645 & \\textbf{  Durbin-Watson:     } &       0.747    \\\\\n",
       "\\textbf{Prob(Omnibus):} &    0.000  & \\textbf{  Jarque-Bera (JB):  } & 246941260.782  \\\\\n",
       "\\textbf{Skew:}          &   15.902  & \\textbf{  Prob(JB):          } &        0.00    \\\\\n",
       "\\textbf{Kurtosis:}      &  407.766  & \\textbf{  Cond. No.          } &    6.20e+05    \\\\\n",
       "\\bottomrule\n",
       "\\end{tabular}\n",
       "%\\caption{OLS Regression Results}\n",
       "\\end{center}\n",
       "\n",
       "Notes: \\newline\n",
       " [1] Standard Errors assume that the covariance matrix of the errors is correctly specified. \\newline\n",
       " [2] The condition number is large, 6.2e+05. This might indicate that there are \\newline\n",
       " strong multicollinearity or other numerical problems."
      ],
      "text/plain": [
       "<class 'statsmodels.iolib.summary.Summary'>\n",
       "\"\"\"\n",
       "                               OLS Regression Results                              \n",
       "===================================================================================\n",
       "Dep. Variable:     CO2_Emission_Grams_Mile   R-squared:                       0.981\n",
       "Model:                                 OLS   Adj. R-squared:                  0.981\n",
       "Method:                      Least Squares   F-statistic:                 3.687e+05\n",
       "Date:                     Tue, 21 Nov 2023   Prob (F-statistic):               0.00\n",
       "Time:                             15:53:18   Log-Likelihood:            -1.5173e+05\n",
       "No. Observations:                    35952   AIC:                         3.035e+05\n",
       "Df Residuals:                        35946   BIC:                         3.035e+05\n",
       "Df Model:                                5                                         \n",
       "Covariance Type:                 nonrobust                                         \n",
       "=====================================================================================\n",
       "                        coef    std err          t      P>|t|      [0.025      0.975]\n",
       "-------------------------------------------------------------------------------------\n",
       "Intercept           769.8883     19.392     39.702      0.000     731.880     807.897\n",
       "Year                 -0.3206      0.010    -33.060      0.000      -0.340      -0.302\n",
       "Cylinders             1.8788      0.083     22.598      0.000       1.716       2.042\n",
       "Fuel_Barrels_Year    19.0529      0.061    311.600      0.000      18.933      19.173\n",
       "Combined_MPG         -3.0404      0.042    -71.645      0.000      -3.124      -2.957\n",
       "Fuel_Cost_Year        0.0323      0.000     67.025      0.000       0.031       0.033\n",
       "==============================================================================\n",
       "Omnibus:                    71055.645   Durbin-Watson:                   0.747\n",
       "Prob(Omnibus):                  0.000   Jarque-Bera (JB):        246941260.782\n",
       "Skew:                          15.902   Prob(JB):                         0.00\n",
       "Kurtosis:                     407.766   Cond. No.                     6.20e+05\n",
       "==============================================================================\n",
       "\n",
       "Notes:\n",
       "[1] Standard Errors assume that the covariance matrix of the errors is correctly specified.\n",
       "[2] The condition number is large, 6.2e+05. This might indicate that there are\n",
       "strong multicollinearity or other numerical problems.\n",
       "\"\"\""
      ]
     },
     "execution_count": 58,
     "metadata": {},
     "output_type": "execute_result"
    }
   ],
   "source": [
    "# Your response here. \n",
    "results.summary()"
   ]
  },
  {
   "cell_type": "code",
   "execution_count": null,
   "metadata": {},
   "outputs": [],
   "source": [
    "'''From what we get all the columns tested for the p values compared to the t(s) are 0, so actually all of them are \n",
    "apporting in the prediction of CO2.\n",
    "We can also see that our model is very precise as the r squared is 0.981. But we only have 5 points on the actual line so that leaves\n",
    "35946 points of residuals. Could that ,mean that it's not over-fitting? We actually cannot say for sure, that's why we can look at the std error.\n",
    "Although it's always better to see it in a plot. \n",
    "Year could be the one that surprises more but if you think you realise that depending the year the car was built it's going to emmit more co2 emissions.'''"
   ]
  },
  {
   "cell_type": "markdown",
   "metadata": {},
   "source": [
    "## Bonus Challenge: Error Analysis"
   ]
  },
  {
   "cell_type": "markdown",
   "metadata": {},
   "source": [
    "I am suspicious about the last few parties I have thrown: it seems that the more people I invite the more people are unable to attend. To know if my hunch is supported by data, I have decided to do an analysis. I have collected my data in the table below, where X is the number of people I invited, and Y is the number of people who attended. \n",
    "\n",
    "|  X |  Y |\n",
    "|----|----|\n",
    "| 1  |  1 |\n",
    "| 3  |  2 |\n",
    "| 4  |  4 |\n",
    "| 6  |  4 |\n",
    "| 8  |  5 |\n",
    "| 9  |  7 |\n",
    "| 11 |  8 |\n",
    "| 14 |  13 |"
   ]
  },
  {
   "cell_type": "markdown",
   "metadata": {},
   "source": [
    "We want to know if the relationship modeled by the two random variables is linear or not, and therefore if it is appropriate to model it with a linear regression. \n",
    "First, build a dataframe with the data. "
   ]
  },
  {
   "cell_type": "code",
   "execution_count": 60,
   "metadata": {},
   "outputs": [
    {
     "data": {
      "text/html": [
       "<div>\n",
       "<style scoped>\n",
       "    .dataframe tbody tr th:only-of-type {\n",
       "        vertical-align: middle;\n",
       "    }\n",
       "\n",
       "    .dataframe tbody tr th {\n",
       "        vertical-align: top;\n",
       "    }\n",
       "\n",
       "    .dataframe thead th {\n",
       "        text-align: right;\n",
       "    }\n",
       "</style>\n",
       "<table border=\"1\" class=\"dataframe\">\n",
       "  <thead>\n",
       "    <tr style=\"text-align: right;\">\n",
       "      <th></th>\n",
       "      <th>x</th>\n",
       "      <th>y</th>\n",
       "    </tr>\n",
       "  </thead>\n",
       "  <tbody>\n",
       "    <tr>\n",
       "      <th>7</th>\n",
       "      <td>14</td>\n",
       "      <td>13</td>\n",
       "    </tr>\n",
       "  </tbody>\n",
       "</table>\n",
       "</div>"
      ],
      "text/plain": [
       "    x   y\n",
       "7  14  13"
      ]
     },
     "execution_count": 60,
     "metadata": {},
     "output_type": "execute_result"
    }
   ],
   "source": [
    "# Your code here. \n",
    "p = pd.DataFrame({'x': [1,3,4,6,8,9,11,14], 'y': [1, 2, 4, 4, 5, 7, 8, 13]})\n",
    "p.sample()"
   ]
  },
  {
   "cell_type": "markdown",
   "metadata": {},
   "source": [
    "Draw a dispersion diagram (scatter plot) for the data, and fit a regression line."
   ]
  },
  {
   "cell_type": "code",
   "execution_count": 63,
   "metadata": {},
   "outputs": [],
   "source": [
    "r = LinearRegression()\n",
    "X = p[[\"x\"]]\n",
    "y = p.y\n",
    "r.fit(X,y)\n",
    "p[\"prediction_linear_reg\"] = p.x * r.coef_[0] + r.intercept_"
   ]
  },
  {
   "cell_type": "code",
   "execution_count": 65,
   "metadata": {},
   "outputs": [
    {
     "data": {
      "image/png": "[encoded data removed]",
      "text/plain": [
       "<Figure size 640x480 with 1 Axes>"
      ]
     },
     "metadata": {},
     "output_type": "display_data"
    }
   ],
   "source": [
    "# Your code here.\n",
    "sns.scatterplot(x=\"x\", y=\"y\", data=p)\n",
    "plt.plot(p.x, p[\"prediction_linear_reg\"], c=\"r\");"
   ]
  },
  {
   "cell_type": "markdown",
   "metadata": {},
   "source": [
    "What do you see? What does this plot tell you about the likely relationship between the variables? Print the results from your regression."
   ]
  },
  {
   "cell_type": "code",
   "execution_count": 2,
   "metadata": {},
   "outputs": [],
   "source": [
    "# Your response here. \n",
    "''' The tendency is positive having in the y axis the people invited and in the x the people who attends, so I would say that it's correlated,\n",
    "but positevely. Obviously the more people you invite the more people that attends, but let's see if the gap it's of people ivited and people \n",
    "actually attending gets bigger.'''"
   ]
  },
  {
   "cell_type": "markdown",
   "metadata": {},
   "source": [
    "Do you see any problematic points, or outliers, in your data? Remove these points and recalculate your regression. Print the new dispersion diagram with your new model and the results of your model. "
   ]
  },
  {
   "cell_type": "code",
   "execution_count": 66,
   "metadata": {},
   "outputs": [
    {
     "data": {
      "text/plain": [
       "'The only point that coul be problematic is the 13, when you invite 14 people, 13 attend. '"
      ]
     },
     "execution_count": 66,
     "metadata": {},
     "output_type": "execute_result"
    }
   ],
   "source": [
    "# Your response here. \n",
    "'''The only point that coul be problematic is the 13, when you invite 14 people, 13 attend. '''"
   ]
  },
  {
   "cell_type": "code",
   "execution_count": 67,
   "metadata": {},
   "outputs": [
    {
     "data": {
      "text/html": [
       "<div>\n",
       "<style scoped>\n",
       "    .dataframe tbody tr th:only-of-type {\n",
       "        vertical-align: middle;\n",
       "    }\n",
       "\n",
       "    .dataframe tbody tr th {\n",
       "        vertical-align: top;\n",
       "    }\n",
       "\n",
       "    .dataframe thead th {\n",
       "        text-align: right;\n",
       "    }\n",
       "</style>\n",
       "<table border=\"1\" class=\"dataframe\">\n",
       "  <thead>\n",
       "    <tr style=\"text-align: right;\">\n",
       "      <th></th>\n",
       "      <th>x</th>\n",
       "      <th>y</th>\n",
       "      <th>prediction_linear_reg</th>\n",
       "    </tr>\n",
       "  </thead>\n",
       "  <tbody>\n",
       "    <tr>\n",
       "      <th>0</th>\n",
       "      <td>1</td>\n",
       "      <td>1</td>\n",
       "      <td>0.409091</td>\n",
       "    </tr>\n",
       "    <tr>\n",
       "      <th>1</th>\n",
       "      <td>3</td>\n",
       "      <td>2</td>\n",
       "      <td>2.106061</td>\n",
       "    </tr>\n",
       "    <tr>\n",
       "      <th>2</th>\n",
       "      <td>4</td>\n",
       "      <td>4</td>\n",
       "      <td>2.954545</td>\n",
       "    </tr>\n",
       "    <tr>\n",
       "      <th>3</th>\n",
       "      <td>6</td>\n",
       "      <td>4</td>\n",
       "      <td>4.651515</td>\n",
       "    </tr>\n",
       "    <tr>\n",
       "      <th>4</th>\n",
       "      <td>8</td>\n",
       "      <td>5</td>\n",
       "      <td>6.348485</td>\n",
       "    </tr>\n",
       "    <tr>\n",
       "      <th>5</th>\n",
       "      <td>9</td>\n",
       "      <td>7</td>\n",
       "      <td>7.196970</td>\n",
       "    </tr>\n",
       "    <tr>\n",
       "      <th>6</th>\n",
       "      <td>11</td>\n",
       "      <td>8</td>\n",
       "      <td>8.893939</td>\n",
       "    </tr>\n",
       "  </tbody>\n",
       "</table>\n",
       "</div>"
      ],
      "text/plain": [
       "    x  y  prediction_linear_reg\n",
       "0   1  1               0.409091\n",
       "1   3  2               2.106061\n",
       "2   4  4               2.954545\n",
       "3   6  4               4.651515\n",
       "4   8  5               6.348485\n",
       "5   9  7               7.196970\n",
       "6  11  8               8.893939"
      ]
     },
     "execution_count": 67,
     "metadata": {},
     "output_type": "execute_result"
    }
   ],
   "source": [
    "p.drop(p[p['y'] == 13].index, inplace = True)\n",
    "p"
   ]
  },
  {
   "cell_type": "code",
   "execution_count": 68,
   "metadata": {},
   "outputs": [],
   "source": [
    "r = LinearRegression()\n",
    "X = p[[\"x\"]]\n",
    "y = p.y\n",
    "r.fit(X,y)\n",
    "p[\"prediction_linear_reg\"] = p.x * r.coef_[0] + r.intercept_"
   ]
  },
  {
   "cell_type": "code",
   "execution_count": 70,
   "metadata": {},
   "outputs": [
    {
     "data": {
      "image/png": "[encoded data removed]",
      "text/plain": [
       "<Figure size 640x480 with 1 Axes>"
      ]
     },
     "metadata": {},
     "output_type": "display_data"
    }
   ],
   "source": [
    "sns.scatterplot(x=\"x\", y=\"y\", data=p)\n",
    "plt.plot(p.x, p[\"prediction_linear_reg\"], c=\"r\");"
   ]
  },
  {
   "cell_type": "code",
   "execution_count": 72,
   "metadata": {},
   "outputs": [
    {
     "name": "stderr",
     "output_type": "stream",
     "text": [
      "/Users/emma/miniconda3/envs/ironhack/lib/python3.11/site-packages/statsmodels/stats/stattools.py:74: ValueWarning: omni_normtest is not valid with less than 8 observations; 7 samples were given.\n",
      "  warn(\"omni_normtest is not valid with less than 8 observations; %i \"\n"
     ]
    },
    {
     "data": {
      "text/html": [
       "<table class=\"simpletable\">\n",
       "<caption>OLS Regression Results</caption>\n",
       "<tr>\n",
       "  <th>Dep. Variable:</th>            <td>y</td>        <th>  R-squared:         </th> <td>   0.943</td>\n",
       "</tr>\n",
       "<tr>\n",
       "  <th>Model:</th>                   <td>OLS</td>       <th>  Adj. R-squared:    </th> <td>   0.932</td>\n",
       "</tr>\n",
       "<tr>\n",
       "  <th>Method:</th>             <td>Least Squares</td>  <th>  F-statistic:       </th> <td>   83.31</td>\n",
       "</tr>\n",
       "<tr>\n",
       "  <th>Date:</th>             <td>Tue, 21 Nov 2023</td> <th>  Prob (F-statistic):</th> <td>0.000264</td>\n",
       "</tr>\n",
       "<tr>\n",
       "  <th>Time:</th>                 <td>16:47:42</td>     <th>  Log-Likelihood:    </th> <td> -5.7771</td>\n",
       "</tr>\n",
       "<tr>\n",
       "  <th>No. Observations:</th>      <td>     7</td>      <th>  AIC:               </th> <td>   15.55</td>\n",
       "</tr>\n",
       "<tr>\n",
       "  <th>Df Residuals:</th>          <td>     5</td>      <th>  BIC:               </th> <td>   15.45</td>\n",
       "</tr>\n",
       "<tr>\n",
       "  <th>Df Model:</th>              <td>     1</td>      <th>                     </th>     <td> </td>   \n",
       "</tr>\n",
       "<tr>\n",
       "  <th>Covariance Type:</th>      <td>nonrobust</td>    <th>                     </th>     <td> </td>   \n",
       "</tr>\n",
       "</table>\n",
       "<table class=\"simpletable\">\n",
       "<tr>\n",
       "      <td></td>         <th>coef</th>     <th>std err</th>      <th>t</th>      <th>P>|t|</th>  <th>[0.025</th>    <th>0.975]</th>  \n",
       "</tr>\n",
       "<tr>\n",
       "  <th>Intercept</th> <td>    0.3233</td> <td>    0.513</td> <td>    0.630</td> <td> 0.556</td> <td>   -0.996</td> <td>    1.642</td>\n",
       "</tr>\n",
       "<tr>\n",
       "  <th>x</th>         <td>    0.6842</td> <td>    0.075</td> <td>    9.127</td> <td> 0.000</td> <td>    0.492</td> <td>    0.877</td>\n",
       "</tr>\n",
       "</table>\n",
       "<table class=\"simpletable\">\n",
       "<tr>\n",
       "  <th>Omnibus:</th>       <td>   nan</td> <th>  Durbin-Watson:     </th> <td>   2.689</td>\n",
       "</tr>\n",
       "<tr>\n",
       "  <th>Prob(Omnibus):</th> <td>   nan</td> <th>  Jarque-Bera (JB):  </th> <td>   0.379</td>\n",
       "</tr>\n",
       "<tr>\n",
       "  <th>Skew:</th>          <td> 0.284</td> <th>  Prob(JB):          </th> <td>   0.827</td>\n",
       "</tr>\n",
       "<tr>\n",
       "  <th>Kurtosis:</th>      <td> 2.012</td> <th>  Cond. No.          </th> <td>    14.5</td>\n",
       "</tr>\n",
       "</table><br/><br/>Notes:<br/>[1] Standard Errors assume that the covariance matrix of the errors is correctly specified."
      ],
      "text/latex": [
       "\\begin{center}\n",
       "\\begin{tabular}{lclc}\n",
       "\\toprule\n",
       "\\textbf{Dep. Variable:}    &        y         & \\textbf{  R-squared:         } &     0.943   \\\\\n",
       "\\textbf{Model:}            &       OLS        & \\textbf{  Adj. R-squared:    } &     0.932   \\\\\n",
       "\\textbf{Method:}           &  Least Squares   & \\textbf{  F-statistic:       } &     83.31   \\\\\n",
       "\\textbf{Date:}             & Tue, 21 Nov 2023 & \\textbf{  Prob (F-statistic):} &  0.000264   \\\\\n",
       "\\textbf{Time:}             &     16:47:42     & \\textbf{  Log-Likelihood:    } &   -5.7771   \\\\\n",
       "\\textbf{No. Observations:} &           7      & \\textbf{  AIC:               } &     15.55   \\\\\n",
       "\\textbf{Df Residuals:}     &           5      & \\textbf{  BIC:               } &     15.45   \\\\\n",
       "\\textbf{Df Model:}         &           1      & \\textbf{                     } &             \\\\\n",
       "\\textbf{Covariance Type:}  &    nonrobust     & \\textbf{                     } &             \\\\\n",
       "\\bottomrule\n",
       "\\end{tabular}\n",
       "\\begin{tabular}{lcccccc}\n",
       "                   & \\textbf{coef} & \\textbf{std err} & \\textbf{t} & \\textbf{P$> |$t$|$} & \\textbf{[0.025} & \\textbf{0.975]}  \\\\\n",
       "\\midrule\n",
       "\\textbf{Intercept} &       0.3233  &        0.513     &     0.630  &         0.556        &       -0.996    &        1.642     \\\\\n",
       "\\textbf{x}         &       0.6842  &        0.075     &     9.127  &         0.000        &        0.492    &        0.877     \\\\\n",
       "\\bottomrule\n",
       "\\end{tabular}\n",
       "\\begin{tabular}{lclc}\n",
       "\\textbf{Omnibus:}       &    nan & \\textbf{  Durbin-Watson:     } &    2.689  \\\\\n",
       "\\textbf{Prob(Omnibus):} &    nan & \\textbf{  Jarque-Bera (JB):  } &    0.379  \\\\\n",
       "\\textbf{Skew:}          &  0.284 & \\textbf{  Prob(JB):          } &    0.827  \\\\\n",
       "\\textbf{Kurtosis:}      &  2.012 & \\textbf{  Cond. No.          } &     14.5  \\\\\n",
       "\\bottomrule\n",
       "\\end{tabular}\n",
       "%\\caption{OLS Regression Results}\n",
       "\\end{center}\n",
       "\n",
       "Notes: \\newline\n",
       " [1] Standard Errors assume that the covariance matrix of the errors is correctly specified."
      ],
      "text/plain": [
       "<class 'statsmodels.iolib.summary.Summary'>\n",
       "\"\"\"\n",
       "                            OLS Regression Results                            \n",
       "==============================================================================\n",
       "Dep. Variable:                      y   R-squared:                       0.943\n",
       "Model:                            OLS   Adj. R-squared:                  0.932\n",
       "Method:                 Least Squares   F-statistic:                     83.31\n",
       "Date:                Tue, 21 Nov 2023   Prob (F-statistic):           0.000264\n",
       "Time:                        16:47:42   Log-Likelihood:                -5.7771\n",
       "No. Observations:                   7   AIC:                             15.55\n",
       "Df Residuals:                       5   BIC:                             15.45\n",
       "Df Model:                           1                                         \n",
       "Covariance Type:            nonrobust                                         \n",
       "==============================================================================\n",
       "                 coef    std err          t      P>|t|      [0.025      0.975]\n",
       "------------------------------------------------------------------------------\n",
       "Intercept      0.3233      0.513      0.630      0.556      -0.996       1.642\n",
       "x              0.6842      0.075      9.127      0.000       0.492       0.877\n",
       "==============================================================================\n",
       "Omnibus:                          nan   Durbin-Watson:                   2.689\n",
       "Prob(Omnibus):                    nan   Jarque-Bera (JB):                0.379\n",
       "Skew:                           0.284   Prob(JB):                        0.827\n",
       "Kurtosis:                       2.012   Cond. No.                         14.5\n",
       "==============================================================================\n",
       "\n",
       "Notes:\n",
       "[1] Standard Errors assume that the covariance matrix of the errors is correctly specified.\n",
       "\"\"\""
      ]
     },
     "execution_count": 72,
     "metadata": {},
     "output_type": "execute_result"
    }
   ],
   "source": [
    "smf.ols(\"y ~ x\", data = p).fit().summary()\n"
   ]
  },
  {
   "cell_type": "markdown",
   "metadata": {},
   "source": [
    "What changed? Based on the results of the two models and your graphs, what can you say about the form of the data with the problematic point and without it?"
   ]
  },
  {
   "cell_type": "code",
   "execution_count": null,
   "metadata": {},
   "outputs": [],
   "source": [
    "# Your response here. \n",
    "#The standard deviation is lower so in consequence the standard error is going to be lower too. "
   ]
  }
 ],
 "metadata": {
  "kernelspec": {
   "display_name": "Python 3",
   "language": "python",
   "name": "python3"
  },
  "language_info": {
   "codemirror_mode": {
    "name": "ipython",
    "version": 3
   },
   "file_extension": ".py",
   "mimetype": "text/x-python",
   "name": "python",
   "nbconvert_exporter": "python",
   "pygments_lexer": "ipython3",
   "version": "3.11.5"
  }
 },
 "nbformat": 4,
 "nbformat_minor": 2
}
